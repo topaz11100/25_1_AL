{
 "cells": [
  {
   "cell_type": "code",
   "execution_count": 27,
   "id": "810a4dc8",
   "metadata": {},
   "outputs": [
    {
     "name": "stdout",
     "output_type": "stream",
     "text": [
      "True\n"
     ]
    }
   ],
   "source": [
    "from collections import deque\n",
    "\n",
    "def promising(target, solution):\n",
    "    for i in solution:\n",
    "        if i[0] == target[0] or i[1] == target[1]:\n",
    "            return False\n",
    "        if abs(i[0] - target[0]) == abs(i[1] - target[1]):\n",
    "            return False\n",
    "    return True\n",
    "\n",
    "def Queen(n):\n",
    "    result = []\n",
    "\n",
    "    def recur(node, solution):\n",
    "        if len(solution) == n:\n",
    "            result.append(tuple(solution[:]))\n",
    "            return\n",
    "\n",
    "        for child in [(node[0] + 1, k) for k in range(n)]:\n",
    "            if promising(child, solution):\n",
    "                solution.append(child)\n",
    "                recur(child, solution)\n",
    "                solution.pop()\n",
    "\n",
    "    recur((-1, -1), [])\n",
    "\n",
    "    return result\n",
    "\n",
    "def Queen_stack(n):\n",
    "\n",
    "    result = []\n",
    "    state = deque([[(0, k)] for k in range(n)])\n",
    "\n",
    "    while state:\n",
    "        now = state.pop()\n",
    "\n",
    "        if len(now) == n:\n",
    "            result.append(tuple(now[:]))\n",
    "            continue\n",
    "        \n",
    "        for child in [(now[-1][0] + 1, k) for k in range(n)]:\n",
    "            if promising(child, now):\n",
    "                state.append(now + [child])\n",
    "        \n",
    "    return result\n",
    "\n",
    "\n",
    "\n",
    "def main():\n",
    "    n = int(input())\n",
    "    print(set(Queen_stack(n))==set(Queen(n)))\n",
    "\n",
    "main()"
   ]
  },
  {
   "cell_type": "code",
   "execution_count": 19,
   "id": "97f8b26f",
   "metadata": {},
   "outputs": [
    {
     "name": "stdout",
     "output_type": "stream",
     "text": [
      "[1, 2]\n"
     ]
    }
   ],
   "source": [
    "from collections import deque\n",
    "\n",
    "state = deque()\n",
    "a = [1]\n",
    "state.append(a)\n",
    "\n",
    "a.append(2)  # 나중에 수정\n",
    "\n",
    "print(state[0])  # => [1, 2] ← 원래 [1]이어야 했는데...\n"
   ]
  },
  {
   "cell_type": "code",
   "execution_count": 29,
   "id": "365b08a7",
   "metadata": {},
   "outputs": [
    {
     "name": "stdout",
     "output_type": "stream",
     "text": [
      "10\n"
     ]
    }
   ],
   "source": [
    "from collections import deque\n",
    "\n",
    "def Queen_stack(n):\n",
    "\n",
    "    result = 0\n",
    "    state = deque([[(0, k)] for k in range(n)])\n",
    "\n",
    "    while state:\n",
    "        now = state.pop()\n",
    "\n",
    "        if len(now) == n:\n",
    "            result+=1\n",
    "            continue\n",
    "        \n",
    "        for child in [(now[-1][0] + 1, k) for k in range(n)]:\n",
    "            if promising(child, now):\n",
    "                state.append(now + [child])\n",
    "        \n",
    "    return result\n",
    "\n",
    "def main():\n",
    "    n = int(input())\n",
    "    print(Queen_stack(n))\n",
    "    \n",
    "main()"
   ]
  },
  {
   "cell_type": "code",
   "execution_count": null,
   "id": "c9a5ad9b",
   "metadata": {},
   "outputs": [],
   "source": []
  }
 ],
 "metadata": {
  "kernelspec": {
   "display_name": "tm",
   "language": "python",
   "name": "python3"
  },
  "language_info": {
   "codemirror_mode": {
    "name": "ipython",
    "version": 3
   },
   "file_extension": ".py",
   "mimetype": "text/x-python",
   "name": "python",
   "nbconvert_exporter": "python",
   "pygments_lexer": "ipython3",
   "version": "3.13.2"
  }
 },
 "nbformat": 4,
 "nbformat_minor": 5
}
