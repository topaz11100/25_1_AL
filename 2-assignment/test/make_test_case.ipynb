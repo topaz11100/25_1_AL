{
 "cells": [
  {
   "cell_type": "code",
   "execution_count": 2,
   "id": "a65dd65b",
   "metadata": {},
   "outputs": [],
   "source": [
    "def write_text_to_file(filename: str, content: str):\n",
    "    with open(filename, 'w', encoding='utf-8') as f:\n",
    "        f.write(content)\n",
    "\n",
    "write_text_to_file('testcase8.txt', ' '.join([str(1000) for i in range(10000)]))"
   ]
  },
  {
   "cell_type": "code",
   "execution_count": null,
   "id": "93cf4577",
   "metadata": {},
   "outputs": [],
   "source": []
  }
 ],
 "metadata": {
  "kernelspec": {
   "display_name": "base",
   "language": "python",
   "name": "python3"
  },
  "language_info": {
   "codemirror_mode": {
    "name": "ipython",
    "version": 3
   },
   "file_extension": ".py",
   "mimetype": "text/x-python",
   "name": "python",
   "nbconvert_exporter": "python",
   "pygments_lexer": "ipython3",
   "version": "3.12.3"
  }
 },
 "nbformat": 4,
 "nbformat_minor": 5
}
